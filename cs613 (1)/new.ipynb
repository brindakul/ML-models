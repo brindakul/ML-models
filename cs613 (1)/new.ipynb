{
 "cells": [
  {
   "cell_type": "markdown",
   "metadata": {
    "id": "_Tcsritmu6fY"
   },
   "source": [
    "# Homework 1\n",
    "\n",
    "Name <br>\n",
    "CS 613 Machine Learning <br>\n",
    "Fall 2021 <br>\n",
    "Dr. Edward Kim <br>\n",
    "Drexel University <br>"
   ]
  },
  {
   "cell_type": "markdown",
   "metadata": {},
   "source": [
    "---\n",
    "---"
   ]
  },
  {
   "cell_type": "markdown",
   "metadata": {
    "id": "sAhSm--aqaS2"
   },
   "source": [
    "# Submission\n",
    "---\n",
    "### __Question 1 Part 1:__ <br>\n",
    "\n",
    "\n",
    "### __Question 1 Part 2:__ <br>\n",
    "\n",
    "a. \n",
    "        \n",
    "b.\n",
    "\n",
    "c.\n",
    "\n",
    "\n",
    "### __Question 2__ <br>\n",
    "\n",
    "a.\n",
    "\n",
    "b.\n",
    "\n",
    "\n",
    "### __Question 3__ <br>\n",
    "\n",
    "a. \n",
    "\n",
    "\n",
    "### __Question 4__ <br>\n",
    "\n",
    "a. \n",
    "\n",
    "\n",
    "### __Question 5__ <br>\n",
    "\n",
    "a. \n",
    " \n",
    "b. \n",
    "\n",
    "c. "
   ]
  },
  {
   "cell_type": "markdown",
   "metadata": {},
   "source": [
    "---\n",
    "---"
   ]
  },
  {
   "cell_type": "markdown",
   "metadata": {
    "id": "UOVoKK09vebK"
   },
   "source": [
    "# Introduction\n",
    "In this assignment you will perform linear regression on a dataset and using cross-validation to analyze your results. In addition to computing and applying the close-form solution, you will also implement from scratch a gradient descent algorithm for linear regression.\n",
    "As with all homeworks, you cannot use any functions that are against the “spirit” of the assignment, unless explicitly told to do so. For this assignment that would mean any linear regression functions. You may use statistical and linear algebra functions to do things like:\n",
    "\n",
    "• mean\n",
    "\n",
    "• std\n",
    "\n",
    "• cov\n",
    "\n",
    "• inverse\n",
    "\n",
    "• matrix multiplication\n",
    "\n",
    "• transpose\n",
    "\n",
    "• etc..."
   ]
  },
  {
   "cell_type": "markdown",
   "metadata": {
    "id": "mocQvJz1vsbP"
   },
   "source": [
    "### Datasets\n",
    "Fish Length Dataset (x06Simple.csv) This dataset consists of 44 rows of data each of the form:\n",
    "1. Index\n",
    "2. Age (days)\n",
    "3. Temperature of Water (degrees Celsius) \n",
    "4. Length of Fish\n",
    "\n",
    "The first row of the data contains header information."
   ]
  },
  {
   "cell_type": "markdown",
   "metadata": {},
   "source": [
    "---\n",
    "---"
   ]
  },
  {
   "cell_type": "markdown",
   "metadata": {},
   "source": [
    "### Imports"
   ]
  },
  {
   "cell_type": "code",
   "execution_count": 64,
   "metadata": {
    "id": "lQB73EqcuzCA"
   },
   "outputs": [],
   "source": [
    "import numpy as np\n",
    "import matplotlib.pyplot as plt\n",
    "import random\n",
    "\n",
    "from sklearn.linear_model import LinearRegression\n",
    "from sklearn.metrics import mean_squared_error\n",
    "from sklearn.model_selection import train_test_split, KFold"
   ]
  },
  {
   "cell_type": "markdown",
   "metadata": {},
   "source": [
    "---\n",
    "---"
   ]
  },
  {
   "cell_type": "markdown",
   "metadata": {
    "id": "lKOqZga_gh1-"
   },
   "source": [
    "# 1. Theory"
   ]
  },
  {
   "cell_type": "markdown",
   "metadata": {},
   "source": [
    "Consider the following data:"
   ]
  },
  {
   "cell_type": "code",
   "execution_count": 1138,
   "metadata": {
    "id": "wleQRC19u5eP"
   },
   "outputs": [],
   "source": [
    "import numpy as np\n",
    "feature = [-2, -5, -3, 0, -6, -2, 1, 5, -1, 3]\n",
    "label = [1, -4, 1, 3, 11, 5, 0, -1, -3, 1]"
   ]
  },
  {
   "cell_type": "code",
   "execution_count": 1139,
   "metadata": {},
   "outputs": [],
   "source": [
    "def Standardise(string1):\n",
    "    m1=np.mean(string1)\n",
    "    std1=np.std(string1)\n",
    "    string2=(string1-m1)/std1\n",
    "    return string2"
   ]
  },
  {
   "cell_type": "code",
   "execution_count": 1140,
   "metadata": {},
   "outputs": [],
   "source": [
    "def add_bias(alg):\n",
    "    ones = np.ones(alg.shape[0]).reshape(alg.shape[0], 1)\n",
    "    alg=np.concatenate((ones, alg),1)\n",
    "    #print(alg)\n",
    "    return alg#print(arr)"
   ]
  },
  {
   "cell_type": "code",
   "execution_count": 1141,
   "metadata": {},
   "outputs": [],
   "source": [
    "def initial_prep(V):\n",
    "    V1=Standardise(V)\n",
    "    V2=add_bias(V1)\n",
    "    return V2"
   ]
  },
  {
   "cell_type": "code",
   "execution_count": 1143,
   "metadata": {},
   "outputs": [
    {
     "data": {
      "text/plain": [
       "array([[ 1.4       ],\n",
       "       [-1.42639945]])"
      ]
     },
     "execution_count": 1143,
     "metadata": {},
     "output_type": "execute_result"
    }
   ],
   "source": [
    "def least_square_estimate(X,Y):\n",
    "    X21=Standardise(X)\n",
    "    X11=add_bias(X21)\n",
    "    X12=X11.transpose()  \n",
    "    theta=np.linalg.inv(X12 @ X11) @ X12 @ Y\n",
    "    return theta\n",
    "X1=np.array(feature)\n",
    "Y1=np.array(label)\n",
    "least_square_estimate(X1.reshape(-1,1),Y1.reshape(-1,1))"
   ]
  },
  {
   "cell_type": "code",
   "execution_count": 1144,
   "metadata": {},
   "outputs": [
    {
     "name": "stdout",
     "output_type": "stream",
     "text": [
      "[[ 1.         -0.31008684]\n",
      " [ 1.         -1.24034735]\n",
      " [ 1.         -0.62017367]\n",
      " [ 1.          0.31008684]\n",
      " [ 1.         -1.55043418]\n",
      " [ 1.         -0.31008684]\n",
      " [ 1.          0.62017367]\n",
      " [ 1.          1.86052102]\n",
      " [ 1.          0.        ]\n",
      " [ 1.          1.24034735]]\n"
     ]
    }
   ],
   "source": [
    "from sklearn.linear_model import LinearRegression #Importing linear regression model and mean squared error from sklearn library\n",
    "from sklearn.metrics import mean_squared_error\n",
    "import math\n",
    "model= LinearRegression() \n",
    "X11=initial_prep(X1.reshape(-1, 1))\n",
    "model.fit(X11,Y1.reshape(-1, 1))\n",
    "print(X11)"
   ]
  },
  {
   "cell_type": "code",
   "execution_count": 1145,
   "metadata": {},
   "outputs": [
    {
     "name": "stdout",
     "output_type": "stream",
     "text": [
      "[ 0.         -1.42639945]\n",
      "[1.4]\n"
     ]
    }
   ],
   "source": [
    "print(model.coef_[0])\n",
    "print(model.intercept_)"
   ]
  },
  {
   "cell_type": "markdown",
   "metadata": {
    "id": "2Xct5skngoB0"
   },
   "source": [
    "(a) Compute the coefficients for the linear regression using least squares estimate (LSE), where the second value (column) is the dependent variable (the value to be predicted) and the first column is the sole feature. Show your work and remember to add a bias feature and to standardize the features. Compute this model using all of the data (don’t worry about separating into training and testing sets)."
   ]
  },
  {
   "cell_type": "markdown",
   "metadata": {},
   "source": [
    "  (b)  Confirm your coefficient and intercept term using the sklearn.linear model LinearRegression function."
   ]
  },
  {
   "cell_type": "markdown",
   "metadata": {
    "id": "hx1RGZI9sFrK"
   },
   "source": [
    "## Question 1 Part 2. For the function $g(x) = (x − 1)^4$, where x is a single value (not a vector or matrix):"
   ]
  },
  {
   "cell_type": "markdown",
   "metadata": {},
   "source": [
    "(a) (3pts) What is the gradient with respect to x? Show your work to support your answer."
   ]
  },
  {
   "cell_type": "markdown",
   "metadata": {},
   "source": [
    "g(x)=(x-1)^4\n",
    "g'(x)=4(x-1)^3\n",
    "Considering g'(x)=0\n",
    "    4(x-1)^3 =0\n",
    "    (x-1)^3=0\n",
    "    x-1=0\n",
    "    x=1\n"
   ]
  },
  {
   "cell_type": "markdown",
   "metadata": {},
   "source": [
    "(b) (3pts) What is the global minima for g(x)? Show your work to support your answer. <br>"
   ]
  },
  {
   "cell_type": "markdown",
   "metadata": {},
   "source": [
    "<a id='1.2(c)'></a>\n",
    "\n",
    "#### 1.2(c)\n",
    "\n",
    "(3pts) Plot x vs g(x) using matplotlib and use this image in your report."
   ]
  },
  {
   "cell_type": "code",
   "execution_count": 1325,
   "metadata": {},
   "outputs": [
    {
     "data": {
      "image/png": "[encoded data removed]",
      "text/plain": [
       "<Figure size 432x288 with 1 Axes>"
      ]
     },
     "metadata": {
      "needs_background": "light"
     },
     "output_type": "display_data"
    }
   ],
   "source": [
    "import matplotlib.pyplot as plt\n",
    "x1=3\n",
    "y1=(x1-1)**4\n",
    "#plt.plot([1, 2, 3, 4])\n",
    "plt.xlabel('x')\n",
    "plt.ylabel('g(x)')\n",
    "plt.plot([1, 2, 3, 4], [0, 1, 16, 81], linestyle='-')\n",
    "plt.show()"
   ]
  },
  {
   "cell_type": "markdown",
   "metadata": {},
   "source": [
    "---\n",
    "---"
   ]
  },
  {
   "cell_type": "markdown",
   "metadata": {
    "id": "VdkyJhqaiEZ3"
   },
   "source": [
    "# 2. Closed Form Linear Regression\n",
    "\n",
    "Download the dataset x06Simple.csv from Blackboard. This dataset has header information in its first row and then all subsequent rows are in the format:\n",
    "\n",
    "ROW $Id,x_{i,1},x_{i,2}, y_i$\n",
    "\n",
    "Your code should work on any CSV data set that has the first column be header information, the first column be some integer index, then D columns of real-valued features, and then ending with a target value.\n",
    "\n",
    "__Write a script that:__\n",
    "\n",
    "1. Reads in the data, ignoring the first row (header) and first column (index).\n",
    "2. Randomizes the data\n",
    "3. Selects the first 2/3 (round up) of the data for training and the remaining for testing\n",
    "4. Standardizes the data (except for the last column of course) using the training data\n",
    "5. Computes the closed-form solution of linear regression\n",
    "6. Applies the solution to the testing samples\n",
    "7. Computes the root mean squared error (RMSE):  $\\sqrt{\\frac{1}{N}\\sum_{i=1}^N (Y_i-\\hat{Y_i})^2}$. Where $\\hat{Y_i}$ is the predicted\n",
    "value for observation $X_i$.\n",
    "\n",
    "__Implementation Details__\n",
    "1. Seed the random number generate with zero prior to randomizing the data \n",
    "2. Don’t forget to add in a bias feature!\n",
    "\n",
    "__In your report you will need:__\n",
    "1. The final model in the form $y=\\theta_0+\\theta_1x_{:,1} + ...$\n",
    "2. The root mean squared error."
   ]
  },
  {
   "cell_type": "code",
   "execution_count": 1219,
   "metadata": {},
   "outputs": [],
   "source": [
    "import pandas as pd\n",
    "import random\n",
    "import numpy as np\n",
    "\n",
    "dataset=pd.read_csv(\"x06Simple(1).csv\")\n",
    "dataset=dataset.drop(dataset.columns[0], axis=1)"
   ]
  },
  {
   "cell_type": "code",
   "execution_count": 1220,
   "metadata": {},
   "outputs": [],
   "source": [
    "df1 = pd.DataFrame(dataset)\n",
    "df1 = df1.sample(frac = 1)"
   ]
  },
  {
   "cell_type": "code",
   "execution_count": 1221,
   "metadata": {},
   "outputs": [
    {
     "name": "stdout",
     "output_type": "stream",
     "text": [
      "No. of training set: 29\n",
      "No. of testing set: 15\n"
     ]
    }
   ],
   "source": [
    "train = df1.sample(frac=0.66, random_state=42)\n",
    "test = df1.drop(train.index)\n",
    "print(f\"No. of training set: {train.shape[0]}\")\n",
    "print(f\"No. of testing set: {test.shape[0]}\")"
   ]
  },
  {
   "cell_type": "code",
   "execution_count": 1222,
   "metadata": {},
   "outputs": [
    {
     "name": "stdout",
     "output_type": "stream",
     "text": [
      "Mean of Ages 83.18181818181819\n",
      "Mean of Temp of Water 28.0\n",
      "Standard Deviation1 47.69684788803366\n",
      "Standard Deviation2 2.0059364927239987\n"
     ]
    }
   ],
   "source": [
    "import numpy as np\n",
    "np.random.seed(0)\n",
    "m1=df1['Age'].mean()\n",
    "m2=df1['Temp of Water'].mean()\n",
    "sd1=np.std(train['Age'])\n",
    "sd2=np.std(train['Temp of Water'])\n",
    "print(\"Mean of Ages\",m1)\n",
    "print(\"Mean of Temp of Water\",m2)\n",
    "print(\"Standard Deviation1\",sd1)\n",
    "print(\"Standard Deviation2\",sd2)"
   ]
  },
  {
   "cell_type": "code",
   "execution_count": 1223,
   "metadata": {},
   "outputs": [],
   "source": [
    "def standardise(x):\n",
    "    return (x - m1)/sd1\n",
    "def standardise1(x):\n",
    "    return (x - m2)/sd2\n",
    "y11=train['Length of Fish']\n",
    "x11=train.drop(['Length of Fish'],axis=1)\n",
    "train['Age']=train['Age'].apply(standardise)\n",
    "train['Temp of Water']=train['Temp of Water'].apply(standardise1)"
   ]
  },
  {
   "cell_type": "code",
   "execution_count": 1224,
   "metadata": {},
   "outputs": [],
   "source": [
    "train_y=train['Length of Fish']\n",
    "train=train.drop(['Length of Fish'],axis=1)"
   ]
  },
  {
   "cell_type": "code",
   "execution_count": 1225,
   "metadata": {},
   "outputs": [],
   "source": [
    "ones = np.ones(train.shape[0]).reshape(train.shape[0], 1)\n",
    "train=np.concatenate((ones, train),1)"
   ]
  },
  {
   "cell_type": "code",
   "execution_count": 1226,
   "metadata": {},
   "outputs": [],
   "source": [
    "Xt=train.transpose()"
   ]
  },
  {
   "cell_type": "code",
   "execution_count": 1227,
   "metadata": {},
   "outputs": [
    {
     "data": {
      "text/plain": [
       "array([3142.71289532, 1282.76512765, -185.44219176])"
      ]
     },
     "execution_count": 1227,
     "metadata": {},
     "output_type": "execute_result"
    }
   ],
   "source": [
    "Y=train_y.to_numpy()\n",
    "theta=np.linalg.inv(Xt @ train) @ Xt @ Y\n",
    "theta"
   ]
  },
  {
   "cell_type": "code",
   "execution_count": 1228,
   "metadata": {},
   "outputs": [
    {
     "name": "stdout",
     "output_type": "stream",
     "text": [
      "              0\n",
      "0   5112.858698\n",
      "1   1559.468303\n",
      "2   2853.751955\n",
      "3   3237.000771\n",
      "4   1915.822991\n",
      "5   4168.198709\n",
      "6   2483.965189\n",
      "7   1566.199328\n",
      "8   3606.787536\n",
      "9   1004.788155\n",
      "10  1381.305945\n",
      "11  4921.234290\n",
      "12  4736.340908\n",
      "13  4743.071933\n",
      "14  2107.447399\n",
      "15  3798.411944\n",
      "16  4174.929734\n",
      "17  2477.234164\n",
      "18  4927.965316\n",
      "19  4551.447525\n",
      "20  3230.269745\n",
      "21  3983.305326\n",
      "22  5297.752081\n",
      "23  2100.716373\n",
      "24  4544.716500\n",
      "25  1189.681537\n",
      "26  1374.574920\n",
      "27  2668.858572\n",
      "28  3421.894153\n",
      "----\n",
      "21    4600\n",
      "0      620\n",
      "15    3255\n",
      "39    3030\n",
      "24    2140\n",
      "7     4465\n",
      "37    2710\n",
      "23    1305\n",
      "17    4315\n",
      "33     590\n",
      "34    1205\n",
      "9     4570\n",
      "20    4600\n",
      "43    3214\n",
      "36    2140\n",
      "29    4520\n",
      "30    4525\n",
      "14    2805\n",
      "32    4566\n",
      "31    4565\n",
      "16    4015\n",
      "18    4495\n",
      "10    4600\n",
      "13    2110\n",
      "8     4530\n",
      "22     590\n",
      "11     625\n",
      "26    3920\n",
      "28    4515\n",
      "Name: Length of Fish, dtype: int64\n"
     ]
    }
   ],
   "source": [
    "y_pred=np.dot(train,theta)\n",
    "df5=pd.DataFrame(y_pred)\n",
    "print(df5)\n",
    "print(\"----\")\n",
    "print(y11)"
   ]
  },
  {
   "cell_type": "code",
   "execution_count": 1229,
   "metadata": {},
   "outputs": [
    {
     "data": {
      "text/html": [
       "<div>\n",
       "<style scoped>\n",
       "    .dataframe tbody tr th:only-of-type {\n",
       "        vertical-align: middle;\n",
       "    }\n",
       "\n",
       "    .dataframe tbody tr th {\n",
       "        vertical-align: top;\n",
       "    }\n",
       "\n",
       "    .dataframe thead th {\n",
       "        text-align: right;\n",
       "    }\n",
       "</style>\n",
       "<table border=\"1\" class=\"dataframe\">\n",
       "  <thead>\n",
       "    <tr style=\"text-align: right;\">\n",
       "      <th></th>\n",
       "      <th>Age</th>\n",
       "      <th>Temp of Water</th>\n",
       "      <th>Length of Fish</th>\n",
       "    </tr>\n",
       "  </thead>\n",
       "  <tbody>\n",
       "    <tr>\n",
       "      <th>1</th>\n",
       "      <td>28</td>\n",
       "      <td>25</td>\n",
       "      <td>1315</td>\n",
       "    </tr>\n",
       "    <tr>\n",
       "      <th>38</th>\n",
       "      <td>83</td>\n",
       "      <td>31</td>\n",
       "      <td>3020</td>\n",
       "    </tr>\n",
       "    <tr>\n",
       "      <th>5</th>\n",
       "      <td>83</td>\n",
       "      <td>25</td>\n",
       "      <td>3535</td>\n",
       "    </tr>\n",
       "    <tr>\n",
       "      <th>41</th>\n",
       "      <td>125</td>\n",
       "      <td>31</td>\n",
       "      <td>3180</td>\n",
       "    </tr>\n",
       "    <tr>\n",
       "      <th>27</th>\n",
       "      <td>83</td>\n",
       "      <td>29</td>\n",
       "      <td>3920</td>\n",
       "    </tr>\n",
       "    <tr>\n",
       "      <th>40</th>\n",
       "      <td>111</td>\n",
       "      <td>31</td>\n",
       "      <td>3040</td>\n",
       "    </tr>\n",
       "    <tr>\n",
       "      <th>2</th>\n",
       "      <td>41</td>\n",
       "      <td>25</td>\n",
       "      <td>2120</td>\n",
       "    </tr>\n",
       "    <tr>\n",
       "      <th>25</th>\n",
       "      <td>55</td>\n",
       "      <td>29</td>\n",
       "      <td>2890</td>\n",
       "    </tr>\n",
       "    <tr>\n",
       "      <th>35</th>\n",
       "      <td>41</td>\n",
       "      <td>31</td>\n",
       "      <td>1915</td>\n",
       "    </tr>\n",
       "    <tr>\n",
       "      <th>19</th>\n",
       "      <td>125</td>\n",
       "      <td>27</td>\n",
       "      <td>4535</td>\n",
       "    </tr>\n",
       "    <tr>\n",
       "      <th>12</th>\n",
       "      <td>28</td>\n",
       "      <td>27</td>\n",
       "      <td>1215</td>\n",
       "    </tr>\n",
       "    <tr>\n",
       "      <th>4</th>\n",
       "      <td>69</td>\n",
       "      <td>25</td>\n",
       "      <td>3110</td>\n",
       "    </tr>\n",
       "    <tr>\n",
       "      <th>6</th>\n",
       "      <td>97</td>\n",
       "      <td>25</td>\n",
       "      <td>3935</td>\n",
       "    </tr>\n",
       "    <tr>\n",
       "      <th>3</th>\n",
       "      <td>55</td>\n",
       "      <td>25</td>\n",
       "      <td>2600</td>\n",
       "    </tr>\n",
       "    <tr>\n",
       "      <th>42</th>\n",
       "      <td>139</td>\n",
       "      <td>31</td>\n",
       "      <td>3257</td>\n",
       "    </tr>\n",
       "  </tbody>\n",
       "</table>\n",
       "</div>"
      ],
      "text/plain": [
       "    Age  Temp of Water  Length of Fish\n",
       "1    28             25            1315\n",
       "38   83             31            3020\n",
       "5    83             25            3535\n",
       "41  125             31            3180\n",
       "27   83             29            3920\n",
       "40  111             31            3040\n",
       "2    41             25            2120\n",
       "25   55             29            2890\n",
       "35   41             31            1915\n",
       "19  125             27            4535\n",
       "12   28             27            1215\n",
       "4    69             25            3110\n",
       "6    97             25            3935\n",
       "3    55             25            2600\n",
       "42  139             31            3257"
      ]
     },
     "execution_count": 1229,
     "metadata": {},
     "output_type": "execute_result"
    }
   ],
   "source": [
    "test"
   ]
  },
  {
   "cell_type": "code",
   "execution_count": 1230,
   "metadata": {},
   "outputs": [],
   "source": [
    "def standardise(x):\n",
    "\treturn (x - m1)/sd1\n",
    "def standardise1(x):\n",
    "\treturn (x - m2)/sd2\n",
    "y12=test['Length of Fish']\n",
    "test=test.drop(['Length of Fish'],axis=1)\n",
    "test['Age']=test['Age'].apply(standardise)\n",
    "test['Temp of Water']=test['Temp of Water'].apply(standardise1)"
   ]
  },
  {
   "cell_type": "code",
   "execution_count": 1231,
   "metadata": {},
   "outputs": [],
   "source": [
    "ones1 = np.ones(test.shape[0]).reshape(test.shape[0], 1)\n",
    "test=np.concatenate((ones1, test),1)"
   ]
  },
  {
   "cell_type": "code",
   "execution_count": 1232,
   "metadata": {},
   "outputs": [],
   "source": [
    "y_test=np.dot(test,theta)"
   ]
  },
  {
   "cell_type": "code",
   "execution_count": 1233,
   "metadata": {},
   "outputs": [
    {
     "data": {
      "text/plain": [
       "1     1315\n",
       "38    3020\n",
       "5     3535\n",
       "41    3180\n",
       "27    3920\n",
       "40    3040\n",
       "2     2120\n",
       "25    2890\n",
       "35    1915\n",
       "19    4535\n",
       "12    1215\n",
       "4     3110\n",
       "6     3935\n",
       "3     2600\n",
       "42    3257\n",
       "Name: Length of Fish, dtype: int64"
      ]
     },
     "execution_count": 1233,
     "metadata": {},
     "output_type": "execute_result"
    }
   ],
   "source": [
    "y12"
   ]
  },
  {
   "cell_type": "code",
   "execution_count": 1234,
   "metadata": {},
   "outputs": [
    {
     "name": "stdout",
     "output_type": "stream",
     "text": [
      "Root Mean Square error 527.4257402997022\n"
     ]
    }
   ],
   "source": [
    "rm=y_test-y12\n",
    "rms=rm**2\n",
    "n=rms.shape[0]\n",
    "rms_er=np.sum(rms)/n\n",
    "print(\"Root Mean Square error\",np.sqrt(rms_er))"
   ]
  },
  {
   "cell_type": "code",
   "execution_count": 1235,
   "metadata": {},
   "outputs": [
    {
     "name": "stdout",
     "output_type": "stream",
     "text": [
      "[ 620 1315 2120 2600 3110 3535 3935 4465 4530 4570 4600  625 1215 2110\n",
      " 2805 3255 4015 4315 4495 4535 4600 4600  590 1305 2140 2890 3920 3920\n",
      " 4515 4520 4525 4565 4566  590 1205 1915 2140 2710 3020 3030 3040 3180\n",
      " 3257 3214]\n"
     ]
    }
   ],
   "source": [
    "data = pd.read_csv(\"x06Simple(1).csv\")\n",
    "data= data.drop(data.columns[0], axis=1)\n",
    "#print(data)\n",
    "X = data.iloc[:, :-1].values # copy all columns excluding last column\n",
    "Y = data['Length of Fish'].values   # copy the last column only\n",
    "print(Y)"
   ]
  },
  {
   "cell_type": "code",
   "execution_count": 1236,
   "metadata": {},
   "outputs": [],
   "source": [
    "from sklearn.model_selection import train_test_split \n",
    "\n",
    "X_train, X_test, Y_train, Y_test = train_test_split(X, Y, test_size=1/3, random_state=0)\n"
   ]
  },
  {
   "cell_type": "code",
   "execution_count": 1237,
   "metadata": {},
   "outputs": [
    {
     "name": "stdout",
     "output_type": "stream",
     "text": [
      "[4495 3255  590 4015 3040 4530 2110 3535 4315 4566 2805 1915 4465 1205\n",
      " 1315 3920 1215  590 2140 3935 1305 2140 4600 4535 4570 3030 3257 2600\n",
      "  620]\n"
     ]
    }
   ],
   "source": [
    "from sklearn.linear_model import LinearRegression #Importing linear regression model and mean squared error from sklearn library\n",
    "from sklearn.metrics import mean_squared_error\n",
    "import math\n",
    "model= LinearRegression() \n",
    "model.fit(X_train,Y_train)\n",
    "print(Y_train)"
   ]
  },
  {
   "cell_type": "code",
   "execution_count": 1238,
   "metadata": {},
   "outputs": [],
   "source": [
    "prediction=model.predict(X_test)"
   ]
  },
  {
   "cell_type": "code",
   "execution_count": 1239,
   "metadata": {},
   "outputs": [
    {
     "name": "stdout",
     "output_type": "stream",
     "text": [
      "[4110.65658101 2331.93076653 2958.84495836 3060.86171937 5364.48496467]\n",
      "[4525 2710 3920 3110 4600 2890 4515  625 3020 4565 4520 4600 3180 2120\n",
      " 3214]\n"
     ]
    }
   ],
   "source": [
    "print (prediction[0:5])\n",
    "print (Y_test)"
   ]
  },
  {
   "cell_type": "code",
   "execution_count": 1316,
   "metadata": {},
   "outputs": [
    {
     "name": "stdout",
     "output_type": "stream",
     "text": [
      "Root Mean square error using model 703.6080211313106\n",
      "Root mean square error for test data 527.4257402997022\n"
     ]
    }
   ],
   "source": [
    "from sklearn.metrics import mean_squared_error\n",
    "mse=mean_squared_error(Y_test,prediction)\n",
    "print(\"Root Mean square error using model\",math.sqrt(mse))\n",
    "mse=mean_squared_error(y12,y_test)\n",
    "print(\"Root mean square error for test data\",math.sqrt(mse))"
   ]
  },
  {
   "cell_type": "markdown",
   "metadata": {
    "id": "ZnobwYLRnJ9h"
   },
   "source": [
    "# 3. S-Folds Cross-Validation\n",
    "\n",
    "Cross-Validation is a technique used to get reliable evaluation results when we don’t have that much data (and it is therefore difficult to train and/or test a model reliably).\n",
    "\n",
    "In this section you will do S-Folds Cross-Validation for a few different values of S. For each run you will divide your data up into S parts (folds) and test S different models using S-Folds Cross-Validation and evaluate via root mean squared error. In addition, to observe the affect of system variance, we will repeat these experiments several times (shuffling the data each time prior to creating the folds). We will again be doing our experiment on the provided fish dataset. You may use sklearn KFold to perform this task.\n",
    "\n",
    "__Write a script that:__\n",
    "\n",
    "1. Reads in the data, ignoring the first row (header) and first column (index).\n",
    "2. 20 times does the following: <br>\n",
    " (a) Randomizes the data <br>\n",
    " (b) Creates S folds. <br>\n",
    " (c) For i= 1 to S <br>\n",
    "        i. Select fold i as your testing data and the remaining (S − 1) folds as your training data \n",
    "        ii. Standardizes the data (except for the last column of course) based on the training data\n",
    "        iii. Train a closed-form linear regression model \n",
    "        iv. Compute the squared error for each sample in the current testing fold\n",
    " (d) You should now have N squared errors. Compute the RMSE for these.\n",
    "3. You should now have 20 RMSE values. Compute the mean and standard deviation of these. The former should give us a better “overall” mean, whereas the latter should give us feel for the variance of the models that were created.\n",
    "\n",
    "\n",
    "__Implementation Details__\n",
    "1. Don’t forget to add a bias feature!\n",
    "2. When you randomize your data, you may want to set your random seed value so you do not have the same randomly shuffled data! This can also be achieved via KFold random state\n",
    "\n",
    "__In your report you will need:__\n",
    "1. The average and standard deviation of the root mean squared error for S = 3 over the 20 different seed values..\n",
    "2. The average and standard deviation of the root mean squared error for S = 5 over the 20 different seed values.\n",
    "3. The average and standard deviation of the root mean squared error for S = 20 over 20 different seed values.\n",
    "4. The average and standard deviation of the root mean squared error for S = N (where N is the number of samples) over 20 different seed values. This is basically leave-one-out cross- validation."
   ]
  },
  {
   "cell_type": "code",
   "execution_count": 1306,
   "metadata": {},
   "outputs": [],
   "source": [
    "import pandas as pd\n",
    "import random\n",
    "import numpy as np\n",
    "from sklearn.model_selection import KFold\n",
    "dataset=pd.read_csv(\"x06Simple(1).csv\")\n",
    "dataset=dataset.drop(dataset.columns[0], axis=1)"
   ]
  },
  {
   "cell_type": "code",
   "execution_count": 1307,
   "metadata": {},
   "outputs": [],
   "source": [
    "def Standardise(string1):\n",
    "    m1=np.mean(string1)\n",
    "    std1=np.std(string1)\n",
    "    string1=(string1-m1)/std1\n",
    "    return string1"
   ]
  },
  {
   "cell_type": "code",
   "execution_count": 1308,
   "metadata": {},
   "outputs": [],
   "source": [
    "def add_bias(X):\n",
    "    ones = np.ones(X.shape[0]).reshape(X.shape[0], 1)\n",
    "    ones1=ones.T\n",
    "    X_train1=np.concatenate((ones, X),1)\n",
    "    return X_train1"
   ]
  },
  {
   "cell_type": "code",
   "execution_count": 1309,
   "metadata": {},
   "outputs": [],
   "source": [
    "def rms_error(y12,y_test):\n",
    "    rm=y_test-y12\n",
    "    rms=rm**2\n",
    "    #n=rms.shape[0]\n",
    "    #rms_er=np.sum(rms)\n",
    "    return rms"
   ]
  },
  {
   "cell_type": "code",
   "execution_count": 1312,
   "metadata": {},
   "outputs": [],
   "source": [
    "def Scrossvalidation(S):\n",
    "    n=20\n",
    "    df1 = pd.DataFrame(dataset)\n",
    "    #df1 = df1.sample(frac = 1)    \n",
    "    y_train=df1['Length of Fish']\n",
    "    df1=df1.drop('Length of Fish',axis=1)\n",
    "    np0=df1.to_numpy()\n",
    "    np1=y_train.to_numpy()\n",
    "    rms1=0\n",
    "    while n!=0:\n",
    "        rs1=0\n",
    "        t1 = 0\n",
    "        np.random.seed(1)\n",
    "        np.random.shuffle(np0)\n",
    "        kf = KFold(n_splits=S)\n",
    "        #testerr = np.zeros((1,1)).reshape(-1,1)\n",
    "        for train,test in kf.split(np0):\n",
    "            Y_train=np1[train]\n",
    "            X_train=np0[train]\n",
    "            X_train1=Standardise(X_train)\n",
    "            X_train2=add_bias(X_train1)\n",
    "            Xt=X_train2.transpose() \n",
    "            theta=np.linalg.inv(Xt @ X_train2)@ Xt @Y_train\n",
    "            #print(theta)\n",
    "            X_test=np0[test]\n",
    "            Y_test=np1[test]\n",
    "            #print(Y_test)\n",
    "            X_test1=Standardise(X_test)\n",
    "            X_test2=add_bias(X_test1)\n",
    "            Y_pred=np.dot(X_test2,theta)\n",
    "            rs1 = rs1 + np.sum(rms_error(Y_test,Y_pred))\n",
    "            #print(testerr.shape[0], rs2)\n",
    "            #testerr = np.hstack(testerr,rs2.reshape(-1,1))\n",
    "            t1=t1+Y_pred.shape[0]\n",
    "            #print(t1,rs1,Y_pred.shape)\n",
    "            \n",
    "        rmse = np.sqrt(rs1/t1)\n",
    "        #rm1=np.mean(t)\n",
    "        #print(rmse)\n",
    "        #rms1.append(rmse)\n",
    "        \n",
    "        #rms=np.sqrt(rm1)\n",
    "        rms1=rmse+rms1\n",
    "        n=n-1\n",
    "    print(\"Mean\",rms1/20)\n",
    "    print(\"Std deviation\",rms1.std())\n",
    "    return"
   ]
  },
  {
   "cell_type": "code",
   "execution_count": 1313,
   "metadata": {},
   "outputs": [
    {
     "name": "stdout",
     "output_type": "stream",
     "text": [
      "1510.4685564831962\n",
      "0.0\n"
     ]
    }
   ],
   "source": [
    "Scrossvalidation(3)"
   ]
  },
  {
   "cell_type": "code",
   "execution_count": 1314,
   "metadata": {},
   "outputs": [
    {
     "name": "stdout",
     "output_type": "stream",
     "text": [
      "1459.2671927825813\n",
      "0.0\n"
     ]
    }
   ],
   "source": [
    "Scrossvalidation(5)"
   ]
  },
  {
   "cell_type": "code",
   "execution_count": 1315,
   "metadata": {},
   "outputs": [
    {
     "name": "stdout",
     "output_type": "stream",
     "text": [
      "1732.801961988905\n",
      "0.0\n"
     ]
    }
   ],
   "source": [
    "Scrossvalidation(20)"
   ]
  },
  {
   "cell_type": "markdown",
   "metadata": {},
   "source": [
    "---\n",
    "---"
   ]
  },
  {
   "cell_type": "markdown",
   "metadata": {
    "id": "-eqQ15iQomJj"
   },
   "source": [
    "# 4. Locally-Weighted Linear Regression\n",
    "\n",
    "Next we’ll do locally-weighted closed-form linear regression. You may use sklearn train test split\n",
    "for this part.\n",
    "\n",
    "__Write a script to:__\n",
    "1. Read in the data, ignoring the first row (header) and first column (index).\n",
    "2. Randomize the data\n",
    "3. Select the first 2/3 of the data for training and the remaining for testing\n",
    "4. Standardize the data (except for the last column of course) using the training data\n",
    "5. Then for each testing sample <br>\n",
    "(a) Compute the necessary distance matrices relative to the training data in order to compute a local model. <br>\n",
    "(b) Evaluate the testing sample using the local model. <br>\n",
    "(c) Compute the squared error of the testing sample. <br>\n",
    "6. Computes the root mean squared error  $\\sqrt{\\frac{1}{N}\\sum_{i=1}^N (Y_i-\\hat{Y_i})^2}$. Where $\\hat{Y_i}$ is the predicted value for observation Xi.\n",
    "\n",
    "__Implementation Details__\n",
    "1. Seed the random number generate with zero prior to randomizing the data\n",
    "2. Don’t forget to add in the bias feature!\n",
    "3. Use the L1 distance when computing the distances d(a, b).\n",
    "−d(a,b)/k2\n",
    "5. Use all training instances when computing the local model.\n",
    "\n",
    "__In your report you will need:__\n",
    "1. The root mean squared error."
   ]
  },
  {
   "cell_type": "markdown",
   "metadata": {},
   "source": [
    "---\n",
    "---"
   ]
  },
  {
   "cell_type": "code",
   "execution_count": 1057,
   "metadata": {},
   "outputs": [],
   "source": [
    "import pandas as pd\n",
    "import random\n",
    "import numpy as np\n",
    "dataset=pd.read_csv(\"x06Simple(1).csv\")\n",
    "dataset=dataset.drop(dataset.columns[0], axis=1)"
   ]
  },
  {
   "cell_type": "code",
   "execution_count": 1058,
   "metadata": {},
   "outputs": [],
   "source": [
    "df1 = pd.DataFrame(dataset)\n",
    "df1 = df1.sample(frac = 1)\n"
   ]
  },
  {
   "cell_type": "code",
   "execution_count": 1059,
   "metadata": {},
   "outputs": [
    {
     "name": "stdout",
     "output_type": "stream",
     "text": [
      "No. of training set: 29\n",
      "No. of testing set: 15\n"
     ]
    }
   ],
   "source": [
    "train = df1.sample(frac=0.66, random_state=42)\n",
    "test = df1.drop(train.index)\n",
    "print(f\"No. of training set: {train.shape[0]}\")\n",
    "print(f\"No. of testing set: {test.shape[0]}\")\n",
    "#print(train)\n",
    "#print(test)"
   ]
  },
  {
   "cell_type": "code",
   "execution_count": 1060,
   "metadata": {},
   "outputs": [],
   "source": [
    "train=train.drop(['Length of Fish'],axis=1)\n",
    "X_train=train.to_numpy()\n",
    "Y_train=test.to_numpy()\n",
    "np.random.seed(1)\n",
    "np.random.shuffle(X_train)\n",
    "np.random.shuffle(Y_train)"
   ]
  },
  {
   "cell_type": "code",
   "execution_count": 1061,
   "metadata": {},
   "outputs": [],
   "source": [
    "def Standardise(string1):\n",
    "    #print(string1)\n",
    "    m1=np.mean(string1)\n",
    "    std1=np.std(string1)\n",
    "    string1=(string1-m1)/std1\n",
    "    #print(string1)\n",
    "    return string1\n"
   ]
  },
  {
   "cell_type": "code",
   "execution_count": 1062,
   "metadata": {},
   "outputs": [],
   "source": [
    "X_1=Standardise(X_train[:,0])\n",
    "X_2=Standardise(X_train[:,1])\n",
    "X_train1=np.array([X_1,X_2])\n",
    "X_train1=X_train1.T()"
   ]
  },
  {
   "cell_type": "code",
   "execution_count": 1063,
   "metadata": {},
   "outputs": [],
   "source": [
    "ones = np.ones(X_train1.shape[0]).reshape(X_train1.shape[0], 1)\n",
    "ones1=ones.T\n",
    "X_train1=np.concatenate((ones, X_train1),1)\n"
   ]
  },
  {
   "cell_type": "code",
   "execution_count": 1320,
   "metadata": {},
   "outputs": [
    {
     "name": "stdout",
     "output_type": "stream",
     "text": [
      "7740.025157088527\n"
     ]
    }
   ],
   "source": [
    "def l1_distance(a, b):\n",
    "    return sum(abs(e1-e2) for e1, e2 in zip(a,b))\n",
    "X_test=test.to_numpy()\n",
    "for i in range (X_train.shape[0]):\n",
    "    w = l1_distance(X_train1[i],Y_train)\n",
    "print(w)\n",
    "\n"
   ]
  },
  {
   "cell_type": "markdown",
   "metadata": {
    "id": "kPsXfZskpteA"
   },
   "source": [
    "# 5. Gradient Descent\n",
    "\n",
    "As discussed in class Gradient Descent (Ascent) is a general algorithm that allows us to converge on local minima (maxima) when a closed-form solution is not available or is not feasible to compute.\n",
    "\n",
    "In this section you are going to implement a gradient descent algorithm to find the parameters for linear regression on the same data used for the previous sections. You may NOT use any function for a ML library to do this for you, except sklearn train test split for the data.\n",
    "\n",
    "__Write a script that:__\n",
    "1. Reads in the data, ignoring the first row (header) and first column (index).\n",
    "2. Randomizes the data\n",
    "3. Selects the first 2/3 (round up) of the data for training and the remaining for testing\n",
    "4. Standardizes the data (except for the last column of course) base on the training data\n",
    "5. While the termination criteria (mentioned above in the implementation details) hasn’t been met\n",
    "(a) Compute the RMSE of the training data\n",
    "(b) While we can’t let the testing set affect our training process, also compute the RMSE of\n",
    "the testing error at each iteration of the algorithm (it’ll be interesting to see). \n",
    "(c) Update each parameter using batch gradient descent\n",
    "6. Compute the RMSE of the testing data.\n",
    "\n",
    "__Implementation Details__\n",
    "1. Seed the random number generator prior to your algorithm.\n",
    "2. Don’t forget to a bias feature!\n",
    "3. Initialize the parameters of θ using random values in the range [-1, 1]\n",
    "4. Do batch gradient descent  --- the gradient with respect to all of the data\n",
    "5. Terminate when absolute value of the percent change in the RMSE on the training data is less than $2^{−23}$, or after 1,000 iterations have passed (whichever occurs first).\n",
    "6. Use a learning rate $\\eta=0.01$..\n",
    "7. Make sure that you code can work for an arbitrary number of observations and an arbitrary number of features.\n",
    "\n",
    "__What you will need for your report__\n",
    "1. Final model\n",
    "2. A graph of the RMSE of the training and testing sets as a function of the iteration \n",
    "3. The final RMSE testing error."
   ]
  },
  {
   "cell_type": "code",
   "execution_count": 1241,
   "metadata": {},
   "outputs": [],
   "source": [
    "import pandas as pd\n",
    "import random\n",
    "import numpy as np\n",
    "dataset=pd.read_csv(\"x06Simple(1).csv\")\n",
    "dataset=dataset.drop(dataset.columns[0], axis=1)"
   ]
  },
  {
   "cell_type": "code",
   "execution_count": 1242,
   "metadata": {},
   "outputs": [],
   "source": [
    "df1 = pd.DataFrame(dataset)\n",
    "np.random.seed()"
   ]
  },
  {
   "cell_type": "code",
   "execution_count": 1243,
   "metadata": {},
   "outputs": [
    {
     "name": "stdout",
     "output_type": "stream",
     "text": [
      "No. of training set: 29\n",
      "No. of testing set: 15\n"
     ]
    }
   ],
   "source": [
    "train = df1.sample(frac=0.66, random_state=42)\n",
    "test = df1.drop(train.index)\n",
    "print(f\"No. of training set: {train.shape[0]}\")\n",
    "print(f\"No. of testing set: {test.shape[0]}\")"
   ]
  },
  {
   "cell_type": "code",
   "execution_count": 1244,
   "metadata": {},
   "outputs": [],
   "source": [
    "Y_train=train['Length of Fish']\n",
    "X_train=train.drop(['Length of Fish'],axis=1)\n",
    "X=X_train.to_numpy()\n",
    "Y=y_train.to_numpy()"
   ]
  },
  {
   "cell_type": "code",
   "execution_count": null,
   "metadata": {},
   "outputs": [],
   "source": [
    "def Standardise(string1):\n",
    "    m1=np.mean(string1)\n",
    "    std1=np.std(string1)\n",
    "    string1=(string1-m1)/std1\n",
    "    return string1"
   ]
  },
  {
   "cell_type": "code",
   "execution_count": null,
   "metadata": {},
   "outputs": [],
   "source": [
    "def add_bias(X):\n",
    "    ones = np.ones(X.shape[0]).reshape(X.shape[0], 1)\n",
    "    ones1=ones.T\n",
    "    X_train1=np.concatenate((ones, X),1)\n",
    "    return X_train1"
   ]
  },
  {
   "cell_type": "code",
   "execution_count": 1245,
   "metadata": {},
   "outputs": [],
   "source": [
    "def gradient_descent(x1, y1, alpha=0.001, epsilon=0.0001):\n",
    "    m, n = x1.shape\n",
    "    w_old = np.random.rand(n).reshape(n, 1)\n",
    "    w_new = np.zeros((n, 1))\n",
    "    i = 0\n",
    "    while norm(w_new - w_old)  > epsilon:\n",
    "        w_old = w_new\n",
    "        RSS = compute_error(x1, y1, w_old)\n",
    "        grad_RSS = (X.T.dot(x1).dot(w_old) - X.T.dot(y1))   \n",
    "        w_new = w_old - alpha * grad_RSS\n",
    "        print(i, np.squeeze(RSS))\n",
    "        i += 1\n",
    "    return w_new"
   ]
  },
  {
   "cell_type": "code",
   "execution_count": null,
   "metadata": {},
   "outputs": [],
   "source": []
  }
 ],
 "metadata": {
  "colab": {
   "collapsed_sections": [],
   "name": "hw1",
   "provenance": []
  },
  "kernelspec": {
   "display_name": "Python 3",
   "language": "python",
   "name": "python3"
  },
  "language_info": {
   "codemirror_mode": {
    "name": "ipython",
    "version": 3
   },
   "file_extension": ".py",
   "mimetype": "text/x-python",
   "name": "python",
   "nbconvert_exporter": "python",
   "pygments_lexer": "ipython3",
   "version": "3.8.8"
  }
 },
 "nbformat": 4,
 "nbformat_minor": 4
}
